{
 "cells": [
  {
   "cell_type": "code",
   "execution_count": 7,
   "id": "f07a391e",
   "metadata": {},
   "outputs": [],
   "source": [
    "import requests\n",
    "from bs4 import BeautifulSoup\n",
    "import pandas as pd\n",
    "\n",
    "def get_soup(url):\n",
    "    try:\n",
    "        resp = requests.get(url)\n",
    "        resp.encoding = \"utf-8\"\n",
    "        if resp.status_code == 200:\n",
    "            soup = BeautifulSoup(resp.text, \"lxml\")\n",
    "            return soup\n",
    "        else:\n",
    "            print(\"網頁取得失敗\", resp.status_code)\n",
    "    except Exception as e:\n",
    "        print(\"網址錯誤\", e)"
   ]
  },
  {
   "cell_type": "code",
   "execution_count": 8,
   "id": "12e2aa26",
   "metadata": {},
   "outputs": [],
   "source": [
    "url = (\"https://tw.sports.yahoo.com/nba/\")"
   ]
  },
  {
   "cell_type": "code",
   "execution_count": 12,
   "id": "ac0de9f3",
   "metadata": {},
   "outputs": [],
   "source": [
    "soup=get_soup(url)"
   ]
  },
  {
   "cell_type": "code",
   "execution_count": 13,
   "id": "04f5a354",
   "metadata": {
    "scrolled": true
   },
   "outputs": [],
   "source": [
    "cfs = soup.find(id = \"Col1-1-SportsStream\").find_all(\"div\", class_ = \"Cf\")"
   ]
  },
  {
   "cell_type": "code",
   "execution_count": 14,
   "id": "7b4e9509",
   "metadata": {},
   "outputs": [],
   "source": [
    "cf = cfs[0]"
   ]
  },
  {
   "cell_type": "code",
   "execution_count": 15,
   "id": "06ae26c3",
   "metadata": {},
   "outputs": [
    {
     "name": "stdout",
     "output_type": "stream",
     "text": [
      "NBA／同為最奔波MVP！哈登成功登艇　3年換4隊「三度合體威少」 <div class=\"C(#959595) Fz(11px) D(ib) Mb(6px)\">TVBS新聞網</div> <p class=\"Fz(14px) Lh(19px) Fz(13px)--sm1024 Lh(17px)--sm1024 LineClamp(2,38px) LineClamp(2,34px)--sm1024 M(0)\">在名宿賈奈特（Kevin Garnett）公開抨擊，以及76人球團「拒絕隨隊要求」下令哈登（James Harden）留在費城、不讓其出賽相關風波越演越烈後，這位前MVP終於迎來生涯第4次被交易的紀錄，成功重返西區登上快艇；值得一提的是，這不僅是哈登在3年內的第4度換隊、追平NBA歷史上年度MVP被交易次數最多的紀錄，同時也是他生涯第三次合體老友威少（Russell Westbrook）。</p> https://s.yimg.com/uu/api/res/1.2/Cos03kY2oKSmq9TZLWyYIg--~B/Zmk9c3RyaW07aD0xMjM7cT04MDt3PTIyMDthcHBpZD15dGFjaHlvbg--/https://media.zenfs.com/zh-tw/news_tvbs_com_tw_938/e8c2978a28e42492943ffb6e236f4d91.cf.jpg\n",
      "NBA／無敵戰艦？哈登被交易到快艇　聯手衛少、雷納德組四巨頭 <div class=\"C(#959595) Fz(11px) D(ib) Mb(6px)\">TVBS新聞網</div> <p class=\"Fz(14px) Lh(19px) Fz(13px)--sm1024 Lh(17px)--sm1024 LineClamp(2,38px) LineClamp(2,34px)--sm1024 M(0)\">《ESPN》知名記者沃納羅斯基（Adrian Wojnarowski）報導，NBA費城76人已同意將明星後衛「大鬍子」哈登（James Harden）交易至洛杉磯快艇，將與喬治（Paul George）、雷納德（Kawhi Leonard）、衛斯布魯克（Russell Westbrook）組成豪華四巨頭，76人則得到巴頓（Nicolas Batum）等4名球員和選秀籤。</p> https://s.yimg.com/uu/api/res/1.2/_gR.r.C2h73ytd7PSOSeKg--~B/Zmk9c3RyaW07aD0xMjM7cT04MDt3PTIyMDthcHBpZD15dGFjaHlvbg--/https://media.zenfs.com/en/news_tvbs_com_tw_938/8954da2b593e6d373e53e5e9f97560b4.cf.jpg\n",
      "Fox右腳踝中度扭傷 預計缺席一些時間 <div class=\"C(#959595) Fz(11px) D(ib) Mb(6px)\">緯來體育台</div> <p class=\"Fz(14px) Lh(19px) Fz(13px)--sm1024 Lh(17px)--sm1024 LineClamp(2,38px) LineClamp(2,34px)--sm1024 M(0)\">在前役對戰湖人的比賽中傷到腳踝的國王明星後衛DeAaron Fox，今天（31日）球團公布他的傷勢為</p> https://s.yimg.com/uu/api/res/1.2/RPCPvF3SDS_4nh5CSI1zCA--~B/Zmk9c3RyaW07aD0xMjM7cT04MDt3PTIyMDthcHBpZD15dGFjaHlvbg--/https://media.zenfs.com/ko/video.videoland.com/159fa52182ae8284c455e4cf02a9405a.cf.jpg\n"
     ]
    }
   ],
   "source": [
    "datas=[]\n",
    "for cf in cfs:\n",
    "    try:\n",
    "        title = cf.find(\"a\").text.strip()\n",
    "        source = cf.find(class_ = \"C(#959595) Fz(11px) D(ib) Mb(6px)\")\n",
    "        content = cf.find(class_ = \"Fz(14px) Lh(19px) Fz(13px)--sm1024 Lh(17px)--sm1024 LineClamp(2,38px) LineClamp(2,34px)--sm1024 M(0)\")\n",
    "        img_url = cf.find('img').get('src')\n",
    "        print(title, source, content, img_url)\n",
    "        datas.append([title,source,content,img_url])\n",
    "    except Exception as e:\n",
    "        print(e)"
   ]
  },
  {
   "cell_type": "code",
   "execution_count": 16,
   "id": "7c270117",
   "metadata": {},
   "outputs": [],
   "source": [
    "df = pd.DataFrame(datas,columns = [\"標題\", \"來源\", \"摘要\", \"圖片連結\"])"
   ]
  },
  {
   "cell_type": "code",
   "execution_count": 17,
   "id": "59710dd2",
   "metadata": {},
   "outputs": [
    {
     "data": {
      "text/html": [
       "<div>\n",
       "<style scoped>\n",
       "    .dataframe tbody tr th:only-of-type {\n",
       "        vertical-align: middle;\n",
       "    }\n",
       "\n",
       "    .dataframe tbody tr th {\n",
       "        vertical-align: top;\n",
       "    }\n",
       "\n",
       "    .dataframe thead th {\n",
       "        text-align: right;\n",
       "    }\n",
       "</style>\n",
       "<table border=\"1\" class=\"dataframe\">\n",
       "  <thead>\n",
       "    <tr style=\"text-align: right;\">\n",
       "      <th></th>\n",
       "      <th>標題</th>\n",
       "      <th>來源</th>\n",
       "      <th>摘要</th>\n",
       "      <th>圖片連結</th>\n",
       "    </tr>\n",
       "  </thead>\n",
       "  <tbody>\n",
       "    <tr>\n",
       "      <th>0</th>\n",
       "      <td>NBA／同為最奔波MVP！哈登成功登艇　3年換4隊「三度合體威少」</td>\n",
       "      <td>[TVBS新聞網]</td>\n",
       "      <td>[在名宿賈奈特（Kevin Garnett）公開抨擊，以及76人球團「拒絕隨隊要求」下令哈登...</td>\n",
       "      <td>https://s.yimg.com/uu/api/res/1.2/Cos03kY2oKSm...</td>\n",
       "    </tr>\n",
       "    <tr>\n",
       "      <th>1</th>\n",
       "      <td>NBA／無敵戰艦？哈登被交易到快艇　聯手衛少、雷納德組四巨頭</td>\n",
       "      <td>[TVBS新聞網]</td>\n",
       "      <td>[《ESPN》知名記者沃納羅斯基（Adrian Wojnarowski）報導，NBA費城76...</td>\n",
       "      <td>https://s.yimg.com/uu/api/res/1.2/_gR.r.C2h73y...</td>\n",
       "    </tr>\n",
       "    <tr>\n",
       "      <th>2</th>\n",
       "      <td>Fox右腳踝中度扭傷 預計缺席一些時間</td>\n",
       "      <td>[緯來體育台]</td>\n",
       "      <td>[在前役對戰湖人的比賽中傷到腳踝的國王明星後衛DeAaron Fox，今天（31日）球團公布...</td>\n",
       "      <td>https://s.yimg.com/uu/api/res/1.2/RPCPvF3SDS_4...</td>\n",
       "    </tr>\n",
       "  </tbody>\n",
       "</table>\n",
       "</div>"
      ],
      "text/plain": [
       "                                  標題         來源  \\\n",
       "0  NBA／同為最奔波MVP！哈登成功登艇　3年換4隊「三度合體威少」  [TVBS新聞網]   \n",
       "1     NBA／無敵戰艦？哈登被交易到快艇　聯手衛少、雷納德組四巨頭  [TVBS新聞網]   \n",
       "2                Fox右腳踝中度扭傷 預計缺席一些時間    [緯來體育台]   \n",
       "\n",
       "                                                  摘要  \\\n",
       "0  [在名宿賈奈特（Kevin Garnett）公開抨擊，以及76人球團「拒絕隨隊要求」下令哈登...   \n",
       "1  [《ESPN》知名記者沃納羅斯基（Adrian Wojnarowski）報導，NBA費城76...   \n",
       "2  [在前役對戰湖人的比賽中傷到腳踝的國王明星後衛DeAaron Fox，今天（31日）球團公布...   \n",
       "\n",
       "                                                圖片連結  \n",
       "0  https://s.yimg.com/uu/api/res/1.2/Cos03kY2oKSm...  \n",
       "1  https://s.yimg.com/uu/api/res/1.2/_gR.r.C2h73y...  \n",
       "2  https://s.yimg.com/uu/api/res/1.2/RPCPvF3SDS_4...  "
      ]
     },
     "execution_count": 17,
     "metadata": {},
     "output_type": "execute_result"
    }
   ],
   "source": [
    "df"
   ]
  },
  {
   "cell_type": "code",
   "execution_count": null,
   "id": "4b96efd9",
   "metadata": {},
   "outputs": [],
   "source": []
  }
 ],
 "metadata": {
  "kernelspec": {
   "display_name": "Python 3 (ipykernel)",
   "language": "python",
   "name": "python3"
  },
  "language_info": {
   "codemirror_mode": {
    "name": "ipython",
    "version": 3
   },
   "file_extension": ".py",
   "mimetype": "text/x-python",
   "name": "python",
   "nbconvert_exporter": "python",
   "pygments_lexer": "ipython3",
   "version": "3.11.4"
  }
 },
 "nbformat": 4,
 "nbformat_minor": 5
}
